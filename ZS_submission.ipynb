{
 "cells": [
  {
   "cell_type": "code",
   "execution_count": 1,
   "metadata": {},
   "outputs": [],
   "source": [
    "import pandas as pd\n",
    "import numpy as np\n",
    "from nltk.corpus import stopwords\n",
    "from textblob import Word"
   ]
  },
  {
   "cell_type": "code",
   "execution_count": 3,
   "metadata": {},
   "outputs": [
    {
     "data": {
      "text/html": [
       "<div>\n",
       "<style scoped>\n",
       "    .dataframe tbody tr th:only-of-type {\n",
       "        vertical-align: middle;\n",
       "    }\n",
       "\n",
       "    .dataframe tbody tr th {\n",
       "        vertical-align: top;\n",
       "    }\n",
       "\n",
       "    .dataframe thead th {\n",
       "        text-align: right;\n",
       "    }\n",
       "</style>\n",
       "<table border=\"1\" class=\"dataframe\">\n",
       "  <thead>\n",
       "    <tr style=\"text-align: right;\">\n",
       "      <th></th>\n",
       "      <th>IDLink</th>\n",
       "      <th>Title</th>\n",
       "      <th>Headline</th>\n",
       "      <th>Source</th>\n",
       "      <th>Topic</th>\n",
       "      <th>PublishDate</th>\n",
       "      <th>Facebook</th>\n",
       "      <th>GooglePlus</th>\n",
       "      <th>LinkedIn</th>\n",
       "      <th>SentimentTitle</th>\n",
       "      <th>SentimentHeadline</th>\n",
       "    </tr>\n",
       "  </thead>\n",
       "  <tbody>\n",
       "    <tr>\n",
       "      <th>0</th>\n",
       "      <td>Tr3CMgRv1N</td>\n",
       "      <td>Obama Lays Wreath at Arlington National Cemetery</td>\n",
       "      <td>Obama Lays Wreath at Arlington National Cemete...</td>\n",
       "      <td>USA TODAY</td>\n",
       "      <td>obama</td>\n",
       "      <td>2002-04-02 00:00:00</td>\n",
       "      <td>-1</td>\n",
       "      <td>-1</td>\n",
       "      <td>-1</td>\n",
       "      <td>0.000000</td>\n",
       "      <td>-0.053300</td>\n",
       "    </tr>\n",
       "    <tr>\n",
       "      <th>1</th>\n",
       "      <td>Wc81vGp8qZ</td>\n",
       "      <td>A Look at the Health of the Chinese Economy</td>\n",
       "      <td>Tim Haywood, investment director business-unit...</td>\n",
       "      <td>Bloomberg</td>\n",
       "      <td>economy</td>\n",
       "      <td>2008-09-20 00:00:00</td>\n",
       "      <td>-1</td>\n",
       "      <td>-1</td>\n",
       "      <td>-1</td>\n",
       "      <td>0.208333</td>\n",
       "      <td>-0.156386</td>\n",
       "    </tr>\n",
       "    <tr>\n",
       "      <th>2</th>\n",
       "      <td>zNGH03CrZH</td>\n",
       "      <td>Nouriel Roubini: Global Economy Not Back to 2008</td>\n",
       "      <td>Nouriel Roubini, NYU professor and chairman at...</td>\n",
       "      <td>Bloomberg</td>\n",
       "      <td>economy</td>\n",
       "      <td>2012-01-28 00:00:00</td>\n",
       "      <td>-1</td>\n",
       "      <td>-1</td>\n",
       "      <td>-1</td>\n",
       "      <td>-0.425210</td>\n",
       "      <td>0.139754</td>\n",
       "    </tr>\n",
       "    <tr>\n",
       "      <th>3</th>\n",
       "      <td>3sM1H0W8ts</td>\n",
       "      <td>Finland GDP Expands In Q4</td>\n",
       "      <td>Finland's economy expanded marginally in the t...</td>\n",
       "      <td>RTT News</td>\n",
       "      <td>economy</td>\n",
       "      <td>2015-03-01 00:06:00</td>\n",
       "      <td>-1</td>\n",
       "      <td>-1</td>\n",
       "      <td>-1</td>\n",
       "      <td>0.000000</td>\n",
       "      <td>0.026064</td>\n",
       "    </tr>\n",
       "    <tr>\n",
       "      <th>4</th>\n",
       "      <td>wUbnxgvqaZ</td>\n",
       "      <td>Tourism, govt spending buoys Thai economy in J...</td>\n",
       "      <td>Tourism and public spending continued to boost...</td>\n",
       "      <td>The Nation - Thailand&amp;#39;s English news</td>\n",
       "      <td>economy</td>\n",
       "      <td>2015-03-01 00:11:00</td>\n",
       "      <td>-1</td>\n",
       "      <td>-1</td>\n",
       "      <td>-1</td>\n",
       "      <td>0.000000</td>\n",
       "      <td>0.141084</td>\n",
       "    </tr>\n",
       "  </tbody>\n",
       "</table>\n",
       "</div>"
      ],
      "text/plain": [
       "       IDLink                                              Title  \\\n",
       "0  Tr3CMgRv1N   Obama Lays Wreath at Arlington National Cemetery   \n",
       "1  Wc81vGp8qZ        A Look at the Health of the Chinese Economy   \n",
       "2  zNGH03CrZH   Nouriel Roubini: Global Economy Not Back to 2008   \n",
       "3  3sM1H0W8ts                          Finland GDP Expands In Q4   \n",
       "4  wUbnxgvqaZ  Tourism, govt spending buoys Thai economy in J...   \n",
       "\n",
       "                                            Headline  \\\n",
       "0  Obama Lays Wreath at Arlington National Cemete...   \n",
       "1  Tim Haywood, investment director business-unit...   \n",
       "2  Nouriel Roubini, NYU professor and chairman at...   \n",
       "3  Finland's economy expanded marginally in the t...   \n",
       "4  Tourism and public spending continued to boost...   \n",
       "\n",
       "                                     Source    Topic          PublishDate  \\\n",
       "0                                 USA TODAY    obama  2002-04-02 00:00:00   \n",
       "1                                 Bloomberg  economy  2008-09-20 00:00:00   \n",
       "2                                 Bloomberg  economy  2012-01-28 00:00:00   \n",
       "3                                  RTT News  economy  2015-03-01 00:06:00   \n",
       "4  The Nation - Thailand&#39;s English news  economy  2015-03-01 00:11:00   \n",
       "\n",
       "   Facebook  GooglePlus  LinkedIn  SentimentTitle  SentimentHeadline  \n",
       "0        -1          -1        -1        0.000000          -0.053300  \n",
       "1        -1          -1        -1        0.208333          -0.156386  \n",
       "2        -1          -1        -1       -0.425210           0.139754  \n",
       "3        -1          -1        -1        0.000000           0.026064  \n",
       "4        -1          -1        -1        0.000000           0.141084  "
      ]
     },
     "execution_count": 3,
     "metadata": {},
     "output_type": "execute_result"
    }
   ],
   "source": [
    "train_df = pd.read_csv('train_file.csv')\n",
    "test_df = pd.read_csv('test_file.csv')\n",
    "train_df.head()"
   ]
  },
  {
   "cell_type": "code",
   "execution_count": 4,
   "metadata": {},
   "outputs": [
    {
     "data": {
      "text/plain": [
       "0     obama lays wreath at arlington national cemetery\n",
       "1          a look at the health of the chinese economy\n",
       "2     nouriel roubini: global economy not back to 2008\n",
       "3                            finland gdp expands in q4\n",
       "4    tourism, govt spending buoys thai economy in j...\n",
       "Name: Title, dtype: object"
      ]
     },
     "execution_count": 4,
     "metadata": {},
     "output_type": "execute_result"
    }
   ],
   "source": [
    "#converting all the character in to lower case\n",
    "train_df['Title'] = train_df['Title'].apply(lambda x: \" \".join(x.lower() for x in x.split()))\n",
    "train_df['Headline'] = train_df['Headline'].apply(lambda x: \" \".join(x.lower() for x in x.split()))\n",
    "test_df['Title'] = test_df['Title'].apply(lambda x: \" \".join(x.lower() for x in x.split()))\n",
    "test_df['Headline'] = test_df['Headline'].apply(lambda x: \" \".join(x.lower() for x in x.split()))\n",
    "train_df['Title'].head()"
   ]
  },
  {
   "cell_type": "code",
   "execution_count": 5,
   "metadata": {},
   "outputs": [
    {
     "data": {
      "text/plain": [
       "0    sliding economy fg fights back with n3trn tsa ...\n",
       "1    microsoft shows how hololens can bring distant...\n",
       "2    microsofts twitter robot praises hitler trump ...\n",
       "3    flood of central bank moves cant get world eco...\n",
       "4    usdjpy bears lining up on mixed us economy out...\n",
       "Name: Title, dtype: object"
      ]
     },
     "execution_count": 5,
     "metadata": {},
     "output_type": "execute_result"
    }
   ],
   "source": [
    "#removing punctuation from the catagorical data\n",
    "train_df['Title'] = train_df['Title'].str.replace('[^\\w\\s]','')\n",
    "train_df['Headline'] = train_df['Headline'].str.replace('[^\\w\\s]','')\n",
    "test_df['Title'] = test_df['Title'].str.replace('[^\\w\\s]','')\n",
    "test_df['Headline'] = test_df['Headline'].str.replace('[^\\w\\s]','')\n",
    "test_df['Title'].head()"
   ]
  },
  {
   "cell_type": "code",
   "execution_count": 8,
   "metadata": {},
   "outputs": [
    {
     "data": {
      "text/plain": [
       "0       sliding economy fg fights back n3trn tsa funds\n",
       "1    microsoft shows hololens bring distant family ...\n",
       "2    microsofts twitter robot praises hitler trump ...\n",
       "3    flood central bank moves cant get world econom...\n",
       "4         usdjpy bears lining mixed us economy outlook\n",
       "Name: Title, dtype: object"
      ]
     },
     "execution_count": 8,
     "metadata": {},
     "output_type": "execute_result"
    }
   ],
   "source": [
    "#Removing stopwords from the categorical data\n",
    "stop = stopwords.words('english')\n",
    "train_df['Title'] = train_df['Title'].apply(lambda x: \" \".join(x for x in x.split() if x not in stop))\n",
    "train_df['Headline'] = train_df['Headline'].apply(lambda x: \" \".join(x for x in x.split() if x not in stop))\n",
    "test_df['Title'] = test_df['Title'].apply(lambda x: \" \".join(x for x in x.split() if x not in stop))\n",
    "test_df['Headline'] = test_df['Headline'].apply(lambda x: \" \".join(x for x in x.split() if x not in stop))\n",
    "test_df['Title'].head()"
   ]
  },
  {
   "cell_type": "code",
   "execution_count": 7,
   "metadata": {},
   "outputs": [
    {
     "name": "stderr",
     "output_type": "stream",
     "text": [
      "[nltk_data] Downloading package stopwords to C:\\Users\\Sourabh\n",
      "[nltk_data]     Rajey\\AppData\\Roaming\\nltk_data...\n",
      "[nltk_data]   Unzipping corpora\\stopwords.zip.\n"
     ]
    },
    {
     "data": {
      "text/plain": [
       "True"
      ]
     },
     "execution_count": 7,
     "metadata": {},
     "output_type": "execute_result"
    }
   ],
   "source": [
    "import nltk\n",
    "nltk.download('stopwords')"
   ]
  },
  {
   "cell_type": "code",
   "execution_count": 9,
   "metadata": {},
   "outputs": [
    {
     "data": {
      "text/plain": [
       "0           slide economi fg fight back n3trn tsa fund\n",
       "1    microsoft show hololen bring distant famili me...\n",
       "2    microsoft twitter robot prais hitler trump rec...\n",
       "3    flood central bank move cant get world economi...\n",
       "4              usdjpi bear line mix us economi outlook\n",
       "Name: Title, dtype: object"
      ]
     },
     "execution_count": 9,
     "metadata": {},
     "output_type": "execute_result"
    }
   ],
   "source": [
    "#stemming the words so all forms of word will have same meaning\n",
    "from nltk.stem import PorterStemmer\n",
    "st = PorterStemmer()\n",
    "train_df['Title'] = train_df['Title'].apply(lambda x: \" \".join([st.stem(word) for word in x.split()]))\n",
    "train_df['Headline'] = train_df['Headline'].apply(lambda x: \" \".join([st.stem(word) for word in x.split()]))\n",
    "test_df['Title'] = test_df['Title'].apply(lambda x: \" \".join([st.stem(word) for word in x.split()]))\n",
    "test_df['Headline'] = test_df['Headline'].apply(lambda x: \" \".join([st.stem(word) for word in x.split()]))\n",
    "test_df['Title'].head()"
   ]
  },
  {
   "cell_type": "code",
   "execution_count": 10,
   "metadata": {},
   "outputs": [
    {
     "data": {
      "text/html": [
       "<div>\n",
       "<style scoped>\n",
       "    .dataframe tbody tr th:only-of-type {\n",
       "        vertical-align: middle;\n",
       "    }\n",
       "\n",
       "    .dataframe tbody tr th {\n",
       "        vertical-align: top;\n",
       "    }\n",
       "\n",
       "    .dataframe thead th {\n",
       "        text-align: right;\n",
       "    }\n",
       "</style>\n",
       "<table border=\"1\" class=\"dataframe\">\n",
       "  <thead>\n",
       "    <tr style=\"text-align: right;\">\n",
       "      <th></th>\n",
       "      <th>IDLink</th>\n",
       "      <th>Title</th>\n",
       "      <th>Headline</th>\n",
       "      <th>Source</th>\n",
       "      <th>Topic</th>\n",
       "      <th>PublishDate</th>\n",
       "      <th>Facebook</th>\n",
       "      <th>GooglePlus</th>\n",
       "      <th>LinkedIn</th>\n",
       "      <th>SentimentTitle</th>\n",
       "      <th>SentimentHeadline</th>\n",
       "      <th>TopicIndex</th>\n",
       "    </tr>\n",
       "  </thead>\n",
       "  <tbody>\n",
       "    <tr>\n",
       "      <th>0</th>\n",
       "      <td>Tr3CMgRv1N</td>\n",
       "      <td>obama lay wreath arlington nation cemeteri</td>\n",
       "      <td>obama lay wreath arlington nation cemeteri pre...</td>\n",
       "      <td>USA TODAY</td>\n",
       "      <td>obama</td>\n",
       "      <td>2002-04-02 00:00:00</td>\n",
       "      <td>-1</td>\n",
       "      <td>-1</td>\n",
       "      <td>-1</td>\n",
       "      <td>0.000000</td>\n",
       "      <td>-0.053300</td>\n",
       "      <td>3</td>\n",
       "    </tr>\n",
       "    <tr>\n",
       "      <th>1</th>\n",
       "      <td>Wc81vGp8qZ</td>\n",
       "      <td>look health chines economi</td>\n",
       "      <td>tim haywood invest director businessunit head ...</td>\n",
       "      <td>Bloomberg</td>\n",
       "      <td>economy</td>\n",
       "      <td>2008-09-20 00:00:00</td>\n",
       "      <td>-1</td>\n",
       "      <td>-1</td>\n",
       "      <td>-1</td>\n",
       "      <td>0.208333</td>\n",
       "      <td>-0.156386</td>\n",
       "      <td>1</td>\n",
       "    </tr>\n",
       "    <tr>\n",
       "      <th>2</th>\n",
       "      <td>zNGH03CrZH</td>\n",
       "      <td>nouriel roubini global economi back 2008</td>\n",
       "      <td>nouriel roubini nyu professor chairman roubini...</td>\n",
       "      <td>Bloomberg</td>\n",
       "      <td>economy</td>\n",
       "      <td>2012-01-28 00:00:00</td>\n",
       "      <td>-1</td>\n",
       "      <td>-1</td>\n",
       "      <td>-1</td>\n",
       "      <td>-0.425210</td>\n",
       "      <td>0.139754</td>\n",
       "      <td>1</td>\n",
       "    </tr>\n",
       "    <tr>\n",
       "      <th>3</th>\n",
       "      <td>3sM1H0W8ts</td>\n",
       "      <td>finland gdp expand q4</td>\n",
       "      <td>finland economi expand margin three month end ...</td>\n",
       "      <td>RTT News</td>\n",
       "      <td>economy</td>\n",
       "      <td>2015-03-01 00:06:00</td>\n",
       "      <td>-1</td>\n",
       "      <td>-1</td>\n",
       "      <td>-1</td>\n",
       "      <td>0.000000</td>\n",
       "      <td>0.026064</td>\n",
       "      <td>1</td>\n",
       "    </tr>\n",
       "    <tr>\n",
       "      <th>4</th>\n",
       "      <td>wUbnxgvqaZ</td>\n",
       "      <td>tourism govt spend buoy thai economi januari</td>\n",
       "      <td>tourism public spend continu boost economi jan...</td>\n",
       "      <td>The Nation - Thailand&amp;#39;s English news</td>\n",
       "      <td>economy</td>\n",
       "      <td>2015-03-01 00:11:00</td>\n",
       "      <td>-1</td>\n",
       "      <td>-1</td>\n",
       "      <td>-1</td>\n",
       "      <td>0.000000</td>\n",
       "      <td>0.141084</td>\n",
       "      <td>1</td>\n",
       "    </tr>\n",
       "    <tr>\n",
       "      <th>5</th>\n",
       "      <td>1P7kLrnWEp</td>\n",
       "      <td>intellitec solut host 13th annual spring micro...</td>\n",
       "      <td>100 attende expect see latest version microsof...</td>\n",
       "      <td>PRWeb</td>\n",
       "      <td>microsoft</td>\n",
       "      <td>2015-03-01 00:19:00</td>\n",
       "      <td>-1</td>\n",
       "      <td>-1</td>\n",
       "      <td>-1</td>\n",
       "      <td>-0.075378</td>\n",
       "      <td>0.036773</td>\n",
       "      <td>2</td>\n",
       "    </tr>\n",
       "    <tr>\n",
       "      <th>6</th>\n",
       "      <td>lKg2pImhCl</td>\n",
       "      <td>monday 29 feb 2016</td>\n",
       "      <td>ramallah februari 25 2016 wafa palestin liber ...</td>\n",
       "      <td>NaN</td>\n",
       "      <td>palestine</td>\n",
       "      <td>2016-02-28 14:03:00</td>\n",
       "      <td>0</td>\n",
       "      <td>0</td>\n",
       "      <td>0</td>\n",
       "      <td>0.000000</td>\n",
       "      <td>-0.005906</td>\n",
       "      <td>4</td>\n",
       "    </tr>\n",
       "    <tr>\n",
       "      <th>7</th>\n",
       "      <td>X2KssRh8hS</td>\n",
       "      <td>obama star pay music tribut ray charl</td>\n",
       "      <td>first ladi michel obama speak state din room w...</td>\n",
       "      <td>Coast Reporter</td>\n",
       "      <td>obama</td>\n",
       "      <td>2015-03-01 00:45:00</td>\n",
       "      <td>-1</td>\n",
       "      <td>-1</td>\n",
       "      <td>-1</td>\n",
       "      <td>0.083333</td>\n",
       "      <td>0.103003</td>\n",
       "      <td>3</td>\n",
       "    </tr>\n",
       "    <tr>\n",
       "      <th>8</th>\n",
       "      <td>xCHOHAl8v8</td>\n",
       "      <td>fire claim 100yearold barn hancock counti</td>\n",
       "      <td>hancock counti man lost barn earli monday morn...</td>\n",
       "      <td>WTHR Indianapolis</td>\n",
       "      <td>palestine</td>\n",
       "      <td>2015-03-01 01:20:00</td>\n",
       "      <td>-1</td>\n",
       "      <td>-1</td>\n",
       "      <td>-1</td>\n",
       "      <td>-0.173925</td>\n",
       "      <td>-0.050185</td>\n",
       "      <td>4</td>\n",
       "    </tr>\n",
       "    <tr>\n",
       "      <th>9</th>\n",
       "      <td>OR6Xuthveg</td>\n",
       "      <td>microsoft new window 10 ad target appl</td>\n",
       "      <td>new delhi feb29 technolog giant microsoft targ...</td>\n",
       "      <td>New Kerala</td>\n",
       "      <td>microsoft</td>\n",
       "      <td>2015-03-01 01:32:00</td>\n",
       "      <td>-1</td>\n",
       "      <td>-1</td>\n",
       "      <td>-1</td>\n",
       "      <td>-0.059536</td>\n",
       "      <td>-0.081715</td>\n",
       "      <td>2</td>\n",
       "    </tr>\n",
       "  </tbody>\n",
       "</table>\n",
       "</div>"
      ],
      "text/plain": [
       "       IDLink                                              Title  \\\n",
       "0  Tr3CMgRv1N         obama lay wreath arlington nation cemeteri   \n",
       "1  Wc81vGp8qZ                         look health chines economi   \n",
       "2  zNGH03CrZH           nouriel roubini global economi back 2008   \n",
       "3  3sM1H0W8ts                              finland gdp expand q4   \n",
       "4  wUbnxgvqaZ       tourism govt spend buoy thai economi januari   \n",
       "5  1P7kLrnWEp  intellitec solut host 13th annual spring micro...   \n",
       "6  lKg2pImhCl                                 monday 29 feb 2016   \n",
       "7  X2KssRh8hS              obama star pay music tribut ray charl   \n",
       "8  xCHOHAl8v8          fire claim 100yearold barn hancock counti   \n",
       "9  OR6Xuthveg             microsoft new window 10 ad target appl   \n",
       "\n",
       "                                            Headline  \\\n",
       "0  obama lay wreath arlington nation cemeteri pre...   \n",
       "1  tim haywood invest director businessunit head ...   \n",
       "2  nouriel roubini nyu professor chairman roubini...   \n",
       "3  finland economi expand margin three month end ...   \n",
       "4  tourism public spend continu boost economi jan...   \n",
       "5  100 attende expect see latest version microsof...   \n",
       "6  ramallah februari 25 2016 wafa palestin liber ...   \n",
       "7  first ladi michel obama speak state din room w...   \n",
       "8  hancock counti man lost barn earli monday morn...   \n",
       "9  new delhi feb29 technolog giant microsoft targ...   \n",
       "\n",
       "                                     Source      Topic          PublishDate  \\\n",
       "0                                 USA TODAY      obama  2002-04-02 00:00:00   \n",
       "1                                 Bloomberg    economy  2008-09-20 00:00:00   \n",
       "2                                 Bloomberg    economy  2012-01-28 00:00:00   \n",
       "3                                  RTT News    economy  2015-03-01 00:06:00   \n",
       "4  The Nation - Thailand&#39;s English news    economy  2015-03-01 00:11:00   \n",
       "5                                     PRWeb  microsoft  2015-03-01 00:19:00   \n",
       "6                                       NaN  palestine  2016-02-28 14:03:00   \n",
       "7                            Coast Reporter      obama  2015-03-01 00:45:00   \n",
       "8                         WTHR Indianapolis  palestine  2015-03-01 01:20:00   \n",
       "9                                New Kerala  microsoft  2015-03-01 01:32:00   \n",
       "\n",
       "   Facebook  GooglePlus  LinkedIn  SentimentTitle  SentimentHeadline  \\\n",
       "0        -1          -1        -1        0.000000          -0.053300   \n",
       "1        -1          -1        -1        0.208333          -0.156386   \n",
       "2        -1          -1        -1       -0.425210           0.139754   \n",
       "3        -1          -1        -1        0.000000           0.026064   \n",
       "4        -1          -1        -1        0.000000           0.141084   \n",
       "5        -1          -1        -1       -0.075378           0.036773   \n",
       "6         0           0         0        0.000000          -0.005906   \n",
       "7        -1          -1        -1        0.083333           0.103003   \n",
       "8        -1          -1        -1       -0.173925          -0.050185   \n",
       "9        -1          -1        -1       -0.059536          -0.081715   \n",
       "\n",
       "   TopicIndex  \n",
       "0           3  \n",
       "1           1  \n",
       "2           1  \n",
       "3           1  \n",
       "4           1  \n",
       "5           2  \n",
       "6           4  \n",
       "7           3  \n",
       "8           4  \n",
       "9           2  "
      ]
     },
     "execution_count": 10,
     "metadata": {},
     "output_type": "execute_result"
    }
   ],
   "source": [
    "#indexing of topic feature\n",
    "train_df['TopicIndex'] = pd.factorize(train_df['Topic'], sort = True)[0] + 1\n",
    "test_df['TopicIndex'] = pd.factorize(test_df['Topic'], sort = True)[0] + 1\n",
    "train_df.head(10)"
   ]
  },
  {
   "cell_type": "code",
   "execution_count": 12,
   "metadata": {},
   "outputs": [],
   "source": [
    "#combining the numerical feature and categorical feature using DataFrameMapper\n",
    "from sklearn_pandas import DataFrameMapper\n",
    "from sklearn.feature_extraction.text import TfidfVectorizer"
   ]
  },
  {
   "cell_type": "code",
   "execution_count": 13,
   "metadata": {},
   "outputs": [],
   "source": [
    "train_df = train_df.fillna('')"
   ]
  },
  {
   "cell_type": "code",
   "execution_count": 14,
   "metadata": {},
   "outputs": [],
   "source": [
    "#converting title feature in to the vector form using TfidVectorizer so we can input this feature in to our model\n",
    "mapper_title = DataFrameMapper([\n",
    "    ('Title', TfidfVectorizer(max_features=1000, lowercase=True, analyzer='word',\n",
    " stop_words= 'english',ngram_range=(1,1))),\n",
    "    ('Facebook', None),\n",
    "    ('GooglePlus', None),\n",
    "    ('LinkedIn', None),\n",
    "    ('TopicIndex', None),\n",
    "], default = False)"
   ]
  },
  {
   "cell_type": "code",
   "execution_count": 15,
   "metadata": {},
   "outputs": [],
   "source": [
    "#converting Headline in to the vector form using TfidVectorizer so we can input this feature in to our model\n",
    "mapper_headline = DataFrameMapper([\n",
    "    ('Headline', TfidfVectorizer(max_features=1000, lowercase=True, analyzer='word',\n",
    " stop_words= 'english',ngram_range=(1,1))),\n",
    "    ('Facebook', None),\n",
    "    ('GooglePlus', None),\n",
    "    ('LinkedIn', None),\n",
    "    ('TopicIndex', None),\n",
    "], default = False)"
   ]
  },
  {
   "cell_type": "code",
   "execution_count": 16,
   "metadata": {},
   "outputs": [],
   "source": [
    "\n",
    "features_title = mapper_title.fit_transform(train_df)\n",
    "labels_title = train_df['SentimentTitle']\n",
    "test_features_title = mapper_title.transform(test_df)\n",
    "\n",
    "features_headline = mapper_headline.fit_transform(train_df)\n",
    "labels_headline = train_df['SentimentHeadline']\n",
    "test_features_headline = mapper_headline.transform(test_df)"
   ]
  },
  {
   "cell_type": "code",
   "execution_count": 17,
   "metadata": {},
   "outputs": [],
   "source": [
    "# Apply Train-Test split\n",
    "from sklearn.model_selection import train_test_split\n",
    "\n",
    "x_train, x_test, y_train, y_test = train_test_split(features_title, labels_title, test_size=0.30, random_state=42)"
   ]
  },
  {
   "cell_type": "code",
   "execution_count": 18,
   "metadata": {},
   "outputs": [],
   "source": [
    "from sklearn.svm import SVR\n",
    "from sklearn.model_selection import GridSearchCV\n",
    "from sklearn.metrics import mean_absolute_error"
   ]
  },
  {
   "cell_type": "code",
   "execution_count": 20,
   "metadata": {},
   "outputs": [
    {
     "data": {
      "text/plain": [
       "0.09422634027204627"
      ]
     },
     "execution_count": 20,
     "metadata": {},
     "output_type": "execute_result"
    }
   ],
   "source": [
    "\n",
    "parameters = {'kernel':('linear', 'rbf'), 'C':[1, 10]}\n",
    "estimator = SVR(gamma = 'auto')\n",
    "#clf_svr_1 = GridSearchCV(estimator, parameters)\n",
    "estimator.fit(x_train, y_train)\n",
    "predictions_svr = estimator.predict(x_test)\n",
    "mean_absolute_error(y_test,predictions_svr)"
   ]
  },
  {
   "cell_type": "code",
   "execution_count": 21,
   "metadata": {},
   "outputs": [],
   "source": [
    "#training on whole dataSet\n",
    "estimator.fit(features_title, labels_title)\n",
    "final_pred_title = estimator.predict(test_features_title)\n",
    "\n",
    "estimator.fit(features_headline, labels_headline)\n",
    "final_pred_headline = estimator.predict(test_features_headline)"
   ]
  },
  {
   "cell_type": "code",
   "execution_count": 23,
   "metadata": {},
   "outputs": [],
   "source": [
    "#storing the data frame in final_output.csv file\n",
    "final = pd.DataFrame({'IDLink': test_df['IDLink'], 'SentimentTitle': list(final_pred_title), 'SentimentHeadline': list(final_pred_headline)})\n",
    "final.to_csv('final_output_ZS.csv',  encoding='utf-8', index=False)"
   ]
  },
  {
   "cell_type": "code",
   "execution_count": null,
   "metadata": {},
   "outputs": [],
   "source": []
  }
 ],
 "metadata": {
  "kernelspec": {
   "display_name": "Python 3",
   "language": "python",
   "name": "python3"
  },
  "language_info": {
   "codemirror_mode": {
    "name": "ipython",
    "version": 3
   },
   "file_extension": ".py",
   "mimetype": "text/x-python",
   "name": "python",
   "nbconvert_exporter": "python",
   "pygments_lexer": "ipython3",
   "version": "3.6.7"
  }
 },
 "nbformat": 4,
 "nbformat_minor": 2
}
